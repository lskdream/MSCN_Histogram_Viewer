{
 "cells": [
  {
   "cell_type": "markdown",
   "id": "52263e31",
   "metadata": {},
   "source": [
    "# 📊 MSCN Coefficient Viewer\n",
    "\n",
    "This notebook computes and visualizes the MSCN (Mean Subtracted Contrast Normalized) coefficients from a grayscale image."
   ]
  },
  {
   "cell_type": "code",
   "execution_count": null,
   "id": "3c4aa404",
   "metadata": {},
   "outputs": [],
   "source": [
    "import numpy as np\n",
    "import cv2\n",
    "import matplotlib.pyplot as plt\n",
    "import scipy.signal\n",
    "\n",
    "# Gaussian kernel generator\n",
    "def gaussian_kernel2d(size, sigma):\n",
    "    ax = np.arange(-size // 2 + 1., size // 2 + 1.)\n",
    "    xx, yy = np.meshgrid(ax, ax)\n",
    "    kernel = np.exp(-(xx**2 + yy**2) / (2. * sigma**2))\n",
    "    return kernel / np.sum(kernel)"
   ]
  },
  {
   "cell_type": "code",
   "execution_count": null,
   "id": "0ff5c8de",
   "metadata": {},
   "outputs": [],
   "source": [
    "# Local mean and deviation\n",
    "def local_mean(image, kernel):\n",
    "    return scipy.signal.convolve2d(image, kernel, 'same', boundary='symm')\n",
    "\n",
    "def local_deviation(image, local_mu, kernel):\n",
    "    sigma_sq = scipy.signal.convolve2d(image**2, kernel, 'same', boundary='symm')\n",
    "    return np.sqrt(np.abs(sigma_sq - local_mu**2))"
   ]
  },
  {
   "cell_type": "code",
   "execution_count": null,
   "id": "78013f19",
   "metadata": {},
   "outputs": [],
   "source": [
    "# MSCN computation\n",
    "def compute_mscn(image):\n",
    "    kernel = gaussian_kernel2d(7, 7 / 6)\n",
    "    mu = local_mean(image, kernel)\n",
    "    sigma = local_deviation(image, mu, kernel)\n",
    "    mscn = (image - mu) / (sigma + 1e-8)\n",
    "    return mscn"
   ]
  },
  {
   "cell_type": "code",
   "execution_count": null,
   "id": "1aabe2cf",
   "metadata": {},
   "outputs": [],
   "source": [
    "# Plot histogram\n",
    "def plot_histogram(mscn, bins=100):\n",
    "    plt.figure(figsize=(6,4))\n",
    "    plt.hist(mscn.ravel(), bins=bins, density=True, alpha=0.7, color='blue')\n",
    "    plt.title('MSCN Coefficient Histogram')\n",
    "    plt.xlabel('MSCN value')\n",
    "    plt.ylabel('Probability')\n",
    "    plt.grid(True)\n",
    "    plt.tight_layout()\n",
    "    plt.show()"
   ]
  },
  {
   "cell_type": "markdown",
   "id": "d2856b56",
   "metadata": {},
   "source": [
    "## 📷 Load and visualize your image"
   ]
  },
  {
   "cell_type": "code",
   "execution_count": null,
   "id": "1a734ec2",
   "metadata": {},
   "outputs": [],
   "source": [
    "# Replace with your image path or upload via GUI\n",
    "image_path = 'your_image.jpg'\n",
    "image = cv2.imread(image_path, cv2.IMREAD_GRAYSCALE)\n",
    "if image is None:\n",
    "    raise ValueError(f\"Image not found: {image_path}\")\n",
    "\n",
    "image = image.astype(np.float32) / 255.0\n",
    "plt.imshow(image, cmap='gray')\n",
    "plt.title('Input Grayscale Image')\n",
    "plt.axis('off')\n",
    "plt.show()"
   ]
  },
  {
   "cell_type": "markdown",
   "id": "ae4168f4",
   "metadata": {},
   "source": [
    "## 🧮 Compute MSCN and plot histogram"
   ]
  },
  {
   "cell_type": "code",
   "execution_count": null,
   "id": "6b60b5ee",
   "metadata": {},
   "outputs": [],
   "source": [
    "mscn = compute_mscn(image)\n",
    "plot_histogram(mscn)"
   ]
  }
 ],
 "metadata": {},
 "nbformat": 4,
 "nbformat_minor": 5
}
